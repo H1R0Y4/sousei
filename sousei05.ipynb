{
 "cells": [
  {
   "cell_type": "code",
   "execution_count": 3,
   "metadata": {},
   "outputs": [
    {
     "name": "stdout",
     "output_type": "stream",
     "text": [
      "a: shibataken <class 'str'>\n",
      "a: 2019 <class 'int'>\n",
      "year:2019 month:10 class:創成課題\n",
      "year:2019 month:10 class:創成課題\n"
     ]
    }
   ],
   "source": [
    "a = \"shibataken\"   # 文字列は\"\"でも でも可’’\n",
    "print(\"a:\", a, type(a)) # aの中身と型を出力\n",
    "a = 2019\n",
    "print(\"a:\",a, type(a)) # aの中身と型を出力 \n",
    "b, c = 10, \"創成課題\"\n",
    "print(\"year:\"+ str(a) +\" month:\"+ str(b) +\" class:\"+ c) # 出力例1、str()でキャスト\n",
    "print(\"year:{} month:{} class:{}\".format(a,b,c)) # 出力例2"
   ]
  },
  {
   "cell_type": "code",
   "execution_count": 4,
   "metadata": {},
   "outputs": [
    {
     "data": {
      "text/plain": [
       "27"
      ]
     },
     "execution_count": 4,
     "metadata": {},
     "output_type": "execute_result"
    }
   ],
   "source": [
    "1-2\n",
    "4*5\n",
    "7/5   # 整数同士の除算でfloat型\n",
    "7//5  # 切り捨て除算\n",
    "7%5  # 剰余\n",
    "3**3  # 累乗"
   ]
  },
  {
   "cell_type": "code",
   "execution_count": 7,
   "metadata": {},
   "outputs": [
    {
     "name": "stdout",
     "output_type": "stream",
     "text": [
      "20\n",
      "5\n",
      "8\n",
      "11\n",
      "3\n",
      "-11\n"
     ]
    }
   ],
   "source": [
    "# ビット演算\n",
    "x = 10   # b(1010)\n",
    "y = 9    # b(1001)\n",
    "print(x<<1) # 左シフト =10100\n",
    "print(x>>1) # 右シフト =101\n",
    "print(x & y) # AND =1000\n",
    "print(x | y) # OR =1011\n",
    "print(x ^ y) # XOR\n",
    "print(~x)  # NOT、反転"
   ]
  },
  {
   "cell_type": "code",
   "execution_count": 8,
   "metadata": {},
   "outputs": [
    {
     "name": "stdout",
     "output_type": "stream",
     "text": [
      "['Supervised', 'Unsupervised', 'Reinforcement']\n",
      "Supervised\n",
      "['Supervised', 'Unsupervised']\n",
      "3\n",
      "['Supervised', 'Unsupervised', 'Reinforcement', 'semi-supervised']\n"
     ]
    }
   ],
   "source": [
    "machine_learning_list = [\"Supervised\", \"Unsupervised\", \"Reinforcement\"] #[]はリスト\n",
    "print(machine_learning_list) # 全て出力\n",
    "print(machine_learning_list[0]) # 0番目の値を出力\n",
    "print(machine_learning_list[0:2]) # スライス[0:2]で0～1番目の値を出力\n",
    "print(len(machine_learning_list)) # len()でサイズを取得\n",
    "machine_learning_list.append(\"semi-supervised\") # リストの末尾に追加\n",
    "print(machine_learning_list) # 全て出力"
   ]
  },
  {
   "cell_type": "code",
   "execution_count": 9,
   "metadata": {},
   "outputs": [
    {
     "name": "stdout",
     "output_type": "stream",
     "text": [
      "('Supervised', 'Unsupervised', 'Reinforcement')\n",
      "('Supervised', 'Unsupervised')\n",
      "3\n"
     ]
    },
    {
     "ename": "TypeError",
     "evalue": "'tuple' object does not support item assignment",
     "output_type": "error",
     "traceback": [
      "\u001b[0;31m---------------------------------------------------------------------------\u001b[0m",
      "\u001b[0;31mTypeError\u001b[0m                                 Traceback (most recent call last)",
      "\u001b[0;32m<ipython-input-9-0fe28f8e995f>\u001b[0m in \u001b[0;36m<module>\u001b[0;34m\u001b[0m\n\u001b[1;32m      3\u001b[0m \u001b[0mprint\u001b[0m\u001b[0;34m(\u001b[0m\u001b[0mmachine_learning_list\u001b[0m\u001b[0;34m[\u001b[0m\u001b[0;36m0\u001b[0m\u001b[0;34m:\u001b[0m\u001b[0;36m2\u001b[0m\u001b[0;34m]\u001b[0m\u001b[0;34m)\u001b[0m \u001b[0;31m# スライス[0:2]で0～1番目の値を出力\u001b[0m\u001b[0;34m\u001b[0m\u001b[0;34m\u001b[0m\u001b[0m\n\u001b[1;32m      4\u001b[0m \u001b[0mprint\u001b[0m\u001b[0;34m(\u001b[0m\u001b[0mlen\u001b[0m\u001b[0;34m(\u001b[0m\u001b[0mmachine_learning_list\u001b[0m\u001b[0;34m)\u001b[0m\u001b[0;34m)\u001b[0m \u001b[0;31m# len()でサイズを取得# ↓タプルは変更できないのでエラー\u001b[0m\u001b[0;34m\u001b[0m\u001b[0;34m\u001b[0m\u001b[0m\n\u001b[0;32m----> 5\u001b[0;31m \u001b[0mmachine_learning_list\u001b[0m\u001b[0;34m[\u001b[0m\u001b[0;36m0\u001b[0m\u001b[0;34m]\u001b[0m \u001b[0;34m=\u001b[0m \u001b[0;34m\"Semi supervised\"\u001b[0m\u001b[0;34m\u001b[0m\u001b[0;34m\u001b[0m\u001b[0m\n\u001b[0m",
      "\u001b[0;31mTypeError\u001b[0m: 'tuple' object does not support item assignment"
     ]
    }
   ],
   "source": [
    "machine_learning_list = (\"Supervised\", \"Unsupervised\", \"Reinforcement\") # ()タプル\n",
    "print(machine_learning_list) # 全て出力print(machine_learning_list[0]) # 0番目の値を出力\n",
    "print(machine_learning_list[0:2]) # スライス[0:2]で0～1番目の値を出力\n",
    "print(len(machine_learning_list)) # len()でサイズを取得# ↓タプルは変更できないのでエラー\n",
    "machine_learning_list[0] = \"Semi supervised\""
   ]
  },
  {
   "cell_type": "code",
   "execution_count": 10,
   "metadata": {},
   "outputs": [
    {
     "name": "stdout",
     "output_type": "stream",
     "text": [
      "{'Human': 2, 'Dog': 4, 'Spider': 8}\n",
      "4\n",
      "3\n"
     ]
    }
   ],
   "source": [
    "animal_dict = {\"Human\":2, \"Dog\":4, \"Spider\":8} # {}は辞書型\n",
    "print(animal_dict) # 全て出力\n",
    "print(animal_dict[\"Dog\"]) # キー”Dog”の値を出力\n",
    "print(len(animal_dict)) # サイズを出力"
   ]
  },
  {
   "cell_type": "code",
   "execution_count": 11,
   "metadata": {},
   "outputs": [
    {
     "name": "stdout",
     "output_type": "stream",
     "text": [
      "False True\n"
     ]
    }
   ],
   "source": [
    "hungry = False # bool\n",
    "sleepy = True # bool\n",
    "print(hungry,sleepy) # 値の出力"
   ]
  },
  {
   "cell_type": "code",
   "execution_count": 12,
   "metadata": {},
   "outputs": [
    {
     "name": "stdout",
     "output_type": "stream",
     "text": [
      "<class 'bool'>\n"
     ]
    }
   ],
   "source": [
    "print(type(hungry)) # 型の確認"
   ]
  },
  {
   "cell_type": "code",
   "execution_count": 14,
   "metadata": {},
   "outputs": [
    {
     "name": "stdout",
     "output_type": "stream",
     "text": [
      "i: 0\n",
      "i: 1\n",
      "i: 2\n",
      "i: 3\n",
      "i: 4\n",
      "i: 5\n",
      "i: 6\n",
      "i: 7\n",
      "i: 8\n",
      "i: 9\n",
      "sum: 45\n"
     ]
    }
   ],
   "source": [
    "loop = 10 # loop回数\n",
    "sum = 0  # 0~loopの合計\n",
    "for i in range(loop): # range回数分ループ  \n",
    "    print(\"i:\",i)  # インデント（半角空白2つ）でfor文内であることを示唆  \n",
    "    sum += i  # sumにiを加算\n",
    "print(\"sum:\",sum)"
   ]
  },
  {
   "cell_type": "code",
   "execution_count": 15,
   "metadata": {},
   "outputs": [
    {
     "name": "stdout",
     "output_type": "stream",
     "text": [
      "e: 2\n",
      "e: 4\n",
      "e: 6\n",
      "e: 8\n",
      "e: 10\n",
      "sum: 30\n"
     ]
    }
   ],
   "source": [
    "evlist = [2,4,6,8,10] # 偶数のリスト\n",
    "sum = 0  # 0~loopの合計\n",
    "for e in evlist: # listのインデックス順に、eに代入  \n",
    "    print(\"e:\",e)  # インデント（半角空白2つ）でfor文内であることを示唆  \n",
    "    sum += e  # sumにeを加算\n",
    "print(\"sum:\",sum)"
   ]
  },
  {
   "cell_type": "code",
   "execution_count": 16,
   "metadata": {},
   "outputs": [
    {
     "name": "stdout",
     "output_type": "stream",
     "text": [
      "if: 10\n"
     ]
    }
   ],
   "source": [
    "a = 10 # aの値、\n",
    "if a == 10:   # (aは10)がTrueならば  \n",
    "    print(\"if:\",a)\n",
    "elif a > 10: # aが10ではなく10より大きければ  \n",
    "    print(\"elif:\",a)\n",
    "else: # その他 10より小さかったら\n",
    "    print(\"else:\",a)"
   ]
  },
  {
   "cell_type": "code",
   "execution_count": 17,
   "metadata": {},
   "outputs": [
    {
     "name": "stdout",
     "output_type": "stream",
     "text": [
      "if\n"
     ]
    }
   ],
   "source": [
    "buf1, buf2 = \"sousei\", \"kadai\"\n",
    "if buf1 == \"sousei\" and buf2 == \"kadai\": # andの例  \n",
    "    print(\"if\")\n",
    "elif buf1 != \"sousei\" or buf2 != \"kadai\": # orの例  \n",
    "    print(\"elif\")"
   ]
  },
  {
   "cell_type": "code",
   "execution_count": 20,
   "metadata": {},
   "outputs": [
    {
     "name": "stdout",
     "output_type": "stream",
     "text": [
      "none is None\n"
     ]
    }
   ],
   "source": [
    "none = None\n",
    "if none is None:  \n",
    "    print(\"none is None\")"
   ]
  },
  {
   "cell_type": "code",
   "execution_count": 25,
   "metadata": {},
   "outputs": [
    {
     "name": "stdout",
     "output_type": "stream",
     "text": [
      "100\n",
      "A: 100\n",
      "30 -10\n"
     ]
    }
   ],
   "source": [
    "A = 100 #グローバル変数\n",
    "def Func(x,y): # Func関数  \n",
    "    print(A) # グローバル変数の出力  \n",
    "    xy_sum = x + y  \n",
    "    xy_sub = x - y  \n",
    "    print(\"A:\",A) # グローバル変数の出力  \n",
    "    return xy_sum, xy_sub # 返り値は複数可能、リスト等も可能\n",
    "\n",
    "num1,num2 = 10,20\n",
    "F1,F2 = Func(num1,num2)\n",
    "print(F1,F2)"
   ]
  },
  {
   "cell_type": "code",
   "execution_count": 26,
   "metadata": {},
   "outputs": [],
   "source": [
    "class MyClass(): # コンストラクタのみのサンプル    \n",
    "    def __init__(self, value): # #初期化メソッドを定義、引数にname        \n",
    "        self.name = value  # nameアトリビュートを追加\n",
    "        myinstance = MyClass(\"nano\") # インスタンスの作成\n",
    "        print(myinstance.name) #nameの出力"
   ]
  },
  {
   "cell_type": "code",
   "execution_count": 27,
   "metadata": {},
   "outputs": [],
   "source": [
    "class MyClass(): # コンストラクタのみのサンプル    \n",
    "    def __init__(self, value): # #初期化メソッドを定義、引数にname        \n",
    "        self.name = value  # nameアトリビュートを追加\n",
    "        myinstance = MyClass(\"nano\") # インスタンスの作成\n",
    "        print(myinstance.name) #nameの出力"
   ]
  },
  {
   "cell_type": "code",
   "execution_count": 30,
   "metadata": {},
   "outputs": [
    {
     "name": "stdout",
     "output_type": "stream",
     "text": [
      "6 -40\n"
     ]
    }
   ],
   "source": [
    "class Myclass():     \n",
    "    def __init__(self, a,b,c):        \n",
    "        self.num1 = a        \n",
    "        self.num2 = b        \n",
    "        self.num3 = c    \n",
    "    def func_sum(self): # 加算メソッド        \n",
    "        total = self.num1 + self.num2 + self.num3        \n",
    "        return total    \n",
    "    def func_sub(self): # 減算メソッド        \n",
    "        sub = self.num1 - self.num2 - self.num3        \n",
    "        return sub\n",
    "myinstanceA = Myclass(1,2,3) # インスタンスAを作成\n",
    "myinstanceB = Myclass(10,20,30) # インスタンスBを作成\n",
    "calc1 = myinstanceA.func_sum() # インスタンスAでfunc_sum関数を実行\n",
    "calc2 = myinstanceB.func_sub() # インスタンスBでfunc_sub関数を実行\n",
    "print(calc1,calc2)"
   ]
  },
  {
   "cell_type": "code",
   "execution_count": 108,
   "metadata": {},
   "outputs": [
    {
     "name": "stdout",
     "output_type": "stream",
     "text": [
      "case list\n",
      " [[1, 2], [3, 4], [5, 6], [7, 8], [9, 10], [11, 12]]\n",
      "(3, 2)\n",
      "case numpy\n",
      " [[ 8 10]\n",
      " [12 14]\n",
      " [16 18]]\n"
     ]
    },
    {
     "data": {
      "text/plain": [
       "array([[-1.46385011, -0.87831007],\n",
       "       [-0.29277002,  0.29277002],\n",
       "       [ 0.87831007,  1.46385011]])"
      ]
     },
     "execution_count": 108,
     "metadata": {},
     "output_type": "execute_result"
    }
   ],
   "source": [
    "import numpy as np # numpyをインポートし、npとして以後使用する\n",
    "arr1 = [[1,2],[3,4],[5,6]]    #リスト1\n",
    "arr2 = [[7,8],[9,10],[11,12]] #リスト2\n",
    "res = arr1 + arr2 # リスト同士の加算\n",
    "print(\"case list\\n\",res) # リストが連結している\n",
    "arr1 = np.array(arr1) # arr1をnumpy配列化\n",
    "arr2 = np.array(arr2) # arr2をnumpy配列化\n",
    "print(arr1.shape) # shapeでnumpy配列の構造を出力できる\n",
    "print(\"case numpy\\n\",arr1 + arr2) #行列の加算"
   ]
  },
  {
   "cell_type": "code",
   "execution_count": 109,
   "metadata": {},
   "outputs": [
    {
     "name": "stdout",
     "output_type": "stream",
     "text": [
      "1 の段\n",
      "\n",
      "1  x  1 = 1\n",
      "1  x  2 = 2\n",
      "1  x  3 = 3\n",
      "1  x  4 = 4\n",
      "1  x  5 = 5\n",
      "1  x  6 = 6\n",
      "1  x  7 = 7\n",
      "1  x  8 = 8\n",
      "1  x  9 = 9\n",
      "==============\n",
      "2 の段\n",
      "\n",
      "2  x  1 = 2\n",
      "2  x  2 = 4\n",
      "2  x  3 = 6\n",
      "2  x  4 = 8\n",
      "2  x  5 = 10\n",
      "2  x  6 = 12\n",
      "2  x  7 = 14\n",
      "2  x  8 = 16\n",
      "2  x  9 = 18\n",
      "==============\n",
      "3 の段\n",
      "\n",
      "3  x  1 = 3\n",
      "3  x  2 = 6\n",
      "3  x  3 = 9\n",
      "3  x  4 = 12\n",
      "3  x  5 = 15\n",
      "3  x  6 = 18\n",
      "3  x  7 = 21\n",
      "3  x  8 = 24\n",
      "3  x  9 = 27\n",
      "==============\n",
      "4 の段\n",
      "\n",
      "4  x  1 = 4\n",
      "4  x  2 = 8\n",
      "4  x  3 = 12\n",
      "4  x  4 = 16\n",
      "4  x  5 = 20\n",
      "4  x  6 = 24\n",
      "4  x  7 = 28\n",
      "4  x  8 = 32\n",
      "4  x  9 = 36\n",
      "==============\n",
      "5 の段\n",
      "\n",
      "5  x  1 = 5\n",
      "5  x  2 = 10\n",
      "5  x  3 = 15\n",
      "5  x  4 = 20\n",
      "5  x  5 = 25\n",
      "5  x  6 = 30\n",
      "5  x  7 = 35\n",
      "5  x  8 = 40\n",
      "5  x  9 = 45\n",
      "==============\n",
      "6 の段\n",
      "\n",
      "6  x  1 = 6\n",
      "6  x  2 = 12\n",
      "6  x  3 = 18\n",
      "6  x  4 = 24\n",
      "6  x  5 = 30\n",
      "6  x  6 = 36\n",
      "6  x  7 = 42\n",
      "6  x  8 = 48\n",
      "6  x  9 = 54\n",
      "==============\n",
      "7 の段\n",
      "\n",
      "7  x  1 = 7\n",
      "7  x  2 = 14\n",
      "7  x  3 = 21\n",
      "7  x  4 = 28\n",
      "7  x  5 = 35\n",
      "7  x  6 = 42\n",
      "7  x  7 = 49\n",
      "7  x  8 = 56\n",
      "7  x  9 = 63\n",
      "==============\n",
      "8 の段\n",
      "\n",
      "8  x  1 = 8\n",
      "8  x  2 = 16\n",
      "8  x  3 = 24\n",
      "8  x  4 = 32\n",
      "8  x  5 = 40\n",
      "8  x  6 = 48\n",
      "8  x  7 = 56\n",
      "8  x  8 = 64\n",
      "8  x  9 = 72\n",
      "==============\n",
      "9 の段\n",
      "\n",
      "9  x  1 = 9\n",
      "9  x  2 = 18\n",
      "9  x  3 = 27\n",
      "9  x  4 = 36\n",
      "9  x  5 = 45\n",
      "9  x  6 = 54\n",
      "9  x  7 = 63\n",
      "9  x  8 = 72\n",
      "9  x  9 = 81\n",
      "==============\n"
     ]
    }
   ],
   "source": [
    "#4-3\n",
    "print(\"1 の段\\n\")\n",
    "for i in range(1,10):\n",
    "    for k in range(1,10):\n",
    "        print(i,\" x \",k ,\"=\",i*k)\n",
    "        if k == 9:\n",
    "            print('==============')\n",
    "            if i+1 <10:\n",
    "                print(i+1,\"の段\\n\")\n",
    "            "
   ]
  },
  {
   "cell_type": "code",
   "execution_count": 57,
   "metadata": {},
   "outputs": [],
   "source": [
    "kuku_table = []\n",
    "#print(\"1 の段\\n\")\n",
    "for i in range(1,10):\n",
    "    for k in range(1,10):\n",
    "        ans = i*k\n",
    "        #print(i,\" x \",k ,\"=\",ans)\n",
    "        kuku_table.append(ans)\n",
    "#         if k == 9:\n",
    "#             print('==============')\n",
    "#             if i+1 <10:\n",
    "#                 print(i+1,\"の段\\n\")"
   ]
  },
  {
   "cell_type": "code",
   "execution_count": 58,
   "metadata": {},
   "outputs": [
    {
     "name": "stdout",
     "output_type": "stream",
     "text": [
      "kuku_table: [1, 2, 3, 4, 5, 6, 7, 8, 9, 2, 4, 6, 8, 10, 12, 14, 16, 18, 3, 6, 9, 12, 15, 18, 21, 24, 27, 4, 8, 12, 16, 20, 24, 28, 32, 36, 5, 10, 15, 20, 25, 30, 35, 40, 45, 6, 12, 18, 24, 30, 36, 42, 48, 54, 7, 14, 21, 28, 35, 42, 49, 56, 63, 8, 16, 24, 32, 40, 48, 56, 64, 72, 9, 18, 27, 36, 45, 54, 63, 72, 81]\n"
     ]
    }
   ],
   "source": [
    "print(\"kuku_table:\",kuku_table)"
   ]
  },
  {
   "cell_type": "code",
   "execution_count": 62,
   "metadata": {},
   "outputs": [],
   "source": [
    "kuku_table = []\n",
    "#pprint(kuku_table)\n",
    "for i in range(1,10):\n",
    "    for k in range(1,10):\n",
    "        ans = i*k\n",
    "        #print(i,\" x \",k ,\"=\",ans)\n",
    "        kuku_table.append(ans)\n",
    "        kuku_table.append(i)\n",
    "#         if k == 9:\n",
    "#             print('==============')\n",
    "#             if i+1 <10:\n",
    "#                 print(i+1,\"の段\\n\")"
   ]
  },
  {
   "cell_type": "code",
   "execution_count": 5,
   "metadata": {},
   "outputs": [],
   "source": [
    "kuku_table = [[i*j for i in range(1,10)]for j in range(1,10)]"
   ]
  },
  {
   "cell_type": "code",
   "execution_count": 6,
   "metadata": {},
   "outputs": [
    {
     "name": "stdout",
     "output_type": "stream",
     "text": [
      "[[1, 2, 3, 4, 5, 6, 7, 8, 9],\n",
      " [2, 4, 6, 8, 10, 12, 14, 16, 18],\n",
      " [3, 6, 9, 12, 15, 18, 21, 24, 27],\n",
      " [4, 8, 12, 16, 20, 24, 28, 32, 36],\n",
      " [5, 10, 15, 20, 25, 30, 35, 40, 45],\n",
      " [6, 12, 18, 24, 30, 36, 42, 48, 54],\n",
      " [7, 14, 21, 28, 35, 42, 49, 56, 63],\n",
      " [8, 16, 24, 32, 40, 48, 56, 64, 72],\n",
      " [9, 18, 27, 36, 45, 54, 63, 72, 81]]\n"
     ]
    }
   ],
   "source": [
    "from pprint import pprint\n",
    "pprint(kuku_table)"
   ]
  },
  {
   "cell_type": "code",
   "execution_count": 110,
   "metadata": {},
   "outputs": [
    {
     "data": {
      "text/plain": [
       "array([[-1.46385011, -0.87831007],\n",
       "       [-0.29277002,  0.29277002],\n",
       "       [ 0.87831007,  1.46385011]])"
      ]
     },
     "execution_count": 110,
     "metadata": {},
     "output_type": "execute_result"
    }
   ],
   "source": [
    "x = (arr1-np.mean(arr1))/np.std(arr1)\n",
    "x"
   ]
  },
  {
   "cell_type": "code",
   "execution_count": null,
   "metadata": {},
   "outputs": [],
   "source": []
  }
 ],
 "metadata": {
  "kernelspec": {
   "display_name": "3.6.9",
   "language": "python",
   "name": "3.6.9"
  },
  "language_info": {
   "codemirror_mode": {
    "name": "ipython",
    "version": 3
   },
   "file_extension": ".py",
   "mimetype": "text/x-python",
   "name": "python",
   "nbconvert_exporter": "python",
   "pygments_lexer": "ipython3",
   "version": "3.6.9"
  }
 },
 "nbformat": 4,
 "nbformat_minor": 4
}
